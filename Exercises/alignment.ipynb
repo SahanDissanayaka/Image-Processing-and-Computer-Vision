{
 "cells": [
  {
   "cell_type": "code",
   "execution_count": 3,
   "metadata": {},
   "outputs": [],
   "source": [
    "# Transfroming the first image onto the second\n",
    "# Gaffiti images: https://www.robots.ox.ac.uk/~vgg/data/affine/\n",
    "import numpy as np\n",
    "import cv2 as cv\n",
    "im1 = cv.imread(r'./images/graf/img1.ppm', cv.IMREAD_ANYCOLOR)\n",
    "im2 = cv.imread(r'./images/graf/img2.ppm', cv.IMREAD_ANYCOLOR)\n",
    "assert im1 is not None\n",
    "assert im2 is not None\n",
    "\n",
    "# H = np.array([[8.7976964e-01,   3.1245438e-01,  -3.9430589e+01],\n",
    "#   [-1.8389418e-01,   9.3847198e-01,   1.5315784e+02],\n",
    "#    [1.9641425e-04,  -1.6015275e-05,   1.0000000e+00]])\n",
    "\n",
    "with open(r'./images/graf/H1to2p') as f:\n",
    "   H = np.array([[float(h) for h in line.split()] for line in f])\n",
    "\n",
    "im1to2 = cv.warpPerspective(im1, H, (1000,1000))\n",
    "im2to1 = cv.warpPerspective(im2,np.linalg.inv(H),(1000,1000))\n",
    "im2to1[0:im1.shape[0],0:im1.shape[1]] = im1\n",
    "\n",
    "cv.namedWindow('New', cv.WINDOW_AUTOSIZE)\n",
    "cv.imshow('New', im2to1)\n",
    "cv.waitKey(0)\n",
    "\n",
    "cv.namedWindow('Image 1', cv.WINDOW_AUTOSIZE)\n",
    "cv.imshow('Image 1', im1)\n",
    "cv.waitKey(0)\n",
    "cv.namedWindow('Image 2', cv.WINDOW_AUTOSIZE)\n",
    "cv.imshow('Image 2', im2)\n",
    "cv.waitKey(0)\n",
    "cv.namedWindow('Image 1 Warped', cv.WINDOW_AUTOSIZE)\n",
    "cv.imshow('Image 1 Warped', im1to2)\n",
    "cv.waitKey(0)\n",
    "cv.destroyAllWindows()"
   ]
  }
 ],
 "metadata": {
  "kernelspec": {
   "display_name": "Python 3",
   "language": "python",
   "name": "python3"
  },
  "language_info": {
   "codemirror_mode": {
    "name": "ipython",
    "version": 3
   },
   "file_extension": ".py",
   "mimetype": "text/x-python",
   "name": "python",
   "nbconvert_exporter": "python",
   "pygments_lexer": "ipython3",
   "version": "3.12.3"
  }
 },
 "nbformat": 4,
 "nbformat_minor": 2
}
