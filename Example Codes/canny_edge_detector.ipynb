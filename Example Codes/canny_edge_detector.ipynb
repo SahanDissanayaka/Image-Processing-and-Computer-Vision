{
 "cells": [
  {
   "cell_type": "code",
   "execution_count": 2,
   "metadata": {},
   "outputs": [
    {
     "ename": "error",
     "evalue": "OpenCV(4.9.0) D:\\a\\opencv-python\\opencv-python\\opencv\\modules\\highgui\\src\\window.cpp:866: error: (-215:Assertion failed) trackbar in function 'cv::getTrackbarPos'\n",
     "output_type": "error",
     "traceback": [
      "\u001b[1;31m---------------------------------------------------------------------------\u001b[0m",
      "\u001b[1;31merror\u001b[0m                                     Traceback (most recent call last)",
      "Cell \u001b[1;32mIn[2], line 14\u001b[0m, in \u001b[0;36mon_trackbar\u001b[1;34m(val)\u001b[0m\n\u001b[0;32m     12\u001b[0m \u001b[38;5;28;01mdef\u001b[39;00m \u001b[38;5;21mon_trackbar\u001b[39m(val):\n\u001b[0;32m     13\u001b[0m     hi_threshold \u001b[38;5;241m=\u001b[39m cv\u001b[38;5;241m.\u001b[39mgetTrackbarPos(trackbar1_name, title_window)\n\u001b[1;32m---> 14\u001b[0m     ratio \u001b[38;5;241m=\u001b[39m \u001b[43mcv\u001b[49m\u001b[38;5;241;43m.\u001b[39;49m\u001b[43mgetTrackbarPos\u001b[49m\u001b[43m(\u001b[49m\u001b[43mtrackbar2_name\u001b[49m\u001b[43m,\u001b[49m\u001b[43m \u001b[49m\u001b[43mtitle_window\u001b[49m\u001b[43m)\u001b[49m\u001b[38;5;241m/\u001b[39m\u001b[38;5;241m100.\u001b[39m\n\u001b[0;32m     15\u001b[0m     low_threshold \u001b[38;5;241m=\u001b[39m hi_threshold\u001b[38;5;241m*\u001b[39mratio\n\u001b[0;32m     16\u001b[0m     edges \u001b[38;5;241m=\u001b[39m cv\u001b[38;5;241m.\u001b[39mCanny(im, low_threshold, hi_threshold)\n",
      "\u001b[1;31merror\u001b[0m: OpenCV(4.9.0) D:\\a\\opencv-python\\opencv-python\\opencv\\modules\\highgui\\src\\window.cpp:866: error: (-215:Assertion failed) trackbar in function 'cv::getTrackbarPos'\n"
     ]
    }
   ],
   "source": [
    "import cv2 as cv\n",
    "import numpy as np\n",
    "import math\n",
    "\n",
    "hi_threshold_max = 255\n",
    "title_window = 'Canny'\n",
    "\n",
    "ratio = 0.3  # Low threshold/Hi threshold\n",
    "hi_threshold = 255\n",
    "low_threshold = math.floor(hi_threshold*ratio)\n",
    "\n",
    "def on_trackbar(val):\n",
    "    hi_threshold = cv.getTrackbarPos(trackbar1_name, title_window)\n",
    "    ratio = cv.getTrackbarPos(trackbar2_name, title_window)/100.\n",
    "    low_threshold = hi_threshold*ratio\n",
    "    edges = cv.Canny(im, low_threshold, hi_threshold)\n",
    "    cv.imshow(title_window, edges)\n",
    "\n",
    "im = cv.imread('Images/girl.jpg', cv.IMREAD_COLOR)\n",
    "if im is None:\n",
    "    print('Could not open or find the image: ')\n",
    "    exit(0)\n",
    "\n",
    "cv.namedWindow(title_window)\n",
    "trackbar1_name = 'High Threshold Value'\n",
    "cv.createTrackbar(trackbar1_name, title_window, hi_threshold, hi_threshold_max, on_trackbar)\n",
    "trackbar2_name = 'Low Threshold %'\n",
    "cv.createTrackbar(trackbar2_name, title_window, 1, 100, on_trackbar)\n",
    "on_trackbar(hi_threshold)\n",
    "cv.waitKey()\n",
    "cv.destroyAllWindows()\n"
   ]
  }
 ],
 "metadata": {
  "kernelspec": {
   "display_name": "Python 3",
   "language": "python",
   "name": "python3"
  },
  "language_info": {
   "codemirror_mode": {
    "name": "ipython",
    "version": 3
   },
   "file_extension": ".py",
   "mimetype": "text/x-python",
   "name": "python",
   "nbconvert_exporter": "python",
   "pygments_lexer": "ipython3",
   "version": "3.12.3"
  }
 },
 "nbformat": 4,
 "nbformat_minor": 2
}
